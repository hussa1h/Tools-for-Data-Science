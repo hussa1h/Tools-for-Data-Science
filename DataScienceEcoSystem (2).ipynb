{
  "metadata": {
    "kernelspec": {
      "name": "python",
      "display_name": "Python (Pyodide)",
      "language": "python"
    },
    "language_info": {
      "codemirror_mode": {
        "name": "python",
        "version": 3
      },
      "file_extension": ".py",
      "mimetype": "text/x-python",
      "name": "python",
      "nbconvert_exporter": "python",
      "pygments_lexer": "ipython3",
      "version": "3.8"
    }
  },
  "nbformat_minor": 5,
  "nbformat": 4,
  "cells": [
    {
      "id": "164826fb-be69-46da-b302-56a80efd96a1",
      "cell_type": "markdown",
      "source": "# Data Science Tools and Eco System",
      "metadata": {}
    },
    {
      "id": "fdf8af93-09f4-44b1-b272-3741bced24d8",
      "cell_type": "markdown",
      "source": "In this notebook, Data Science Tools and ExoSystem are summerized",
      "metadata": {}
    },
    {
      "id": "e908ebd0-a3a1-42e3-8f61-31b48122a04e",
      "cell_type": "markdown",
      "source": "some of the popular languages that Data Scienctist use are:\n1. Python\n2. R\n3. SQL\n4. Julia",
      "metadata": {}
    },
    {
      "id": "ea545278-71db-4e10-a481-a44f78986b35",
      "cell_type": "markdown",
      "source": "Some of the commonly used libraries by the Data Scientists include:\n1. Pandas\n2. NymPy\n3. Matplotlib\n4. Scikit-learn",
      "metadata": {}
    },
    {
      "id": "d8495101-a7ba-4d23-9ed0-72ceaef02e37",
      "cell_type": "markdown",
      "source": "| Data Science Tool |\n|-------------------|\n| Jupyter Notebook  |\n| RStudio           |\n| Apache Spark      |",
      "metadata": {}
    },
    {
      "id": "dfab11fd-8c96-4f12-8704-0b7cc15301d3",
      "cell_type": "markdown",
      "source": "### Below are few examples of evaluating Arithematic Expressions in Python.",
      "metadata": {}
    },
    {
      "id": "785defc6-4d2b-429d-9391-94814b160fc0",
      "cell_type": "code",
      "source": "# This is a simple arithematic expressionto multiply and then add integers\n(3*4) + 5",
      "metadata": {
        "trusted": true
      },
      "outputs": [
        {
          "execution_count": 2,
          "output_type": "execute_result",
          "data": {
            "text/plain": "17"
          },
          "metadata": {}
        }
      ],
      "execution_count": 2
    },
    {
      "id": "7b8fc8d0-7ad2-4b40-88c1-6c80d4d36660",
      "cell_type": "code",
      "source": "# This will convert 200 minutes to hours by dividing by 60\n200 / 60",
      "metadata": {
        "trusted": true
      },
      "outputs": [
        {
          "execution_count": 3,
          "output_type": "execute_result",
          "data": {
            "text/plain": "3.3333333333333335"
          },
          "metadata": {}
        }
      ],
      "execution_count": 3
    },
    {
      "id": "9c3c3ac5-9aab-43e0-afe2-0cd80e26c300",
      "cell_type": "markdown",
      "source": "**Objectives:**\n- List popular languages for Data Science\n- Lits commonly used libraries\n- Create tables in Markdown\n- Perform arithematic operations in Python\n- Share Notebooks via GitHub",
      "metadata": {}
    },
    {
      "id": "8692af46-1f49-4a5b-91ba-b2ab1a4ab812",
      "cell_type": "markdown",
      "source": "## Author\nHaroon Hussain",
      "metadata": {}
    },
    {
      "id": "c40e2ab1-7c56-489d-9cca-c7cde6828d15",
      "cell_type": "code",
      "source": "",
      "metadata": {
        "trusted": true
      },
      "outputs": [],
      "execution_count": null
    }
  ]
}